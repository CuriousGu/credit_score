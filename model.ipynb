{
 "cells": [
  {
   "cell_type": "code",
   "execution_count": 38,
   "metadata": {},
   "outputs": [],
   "source": [
    "import pandas as pd\n",
    "import numpy as np"
   ]
  },
  {
   "cell_type": "code",
   "execution_count": 39,
   "metadata": {},
   "outputs": [],
   "source": [
    "from sklearn.model_selection import train_test_split\n",
    "from sklearn.linear_model import LogisticRegression\n",
    "from sklearn.preprocessing import OneHotEncoder, StandardScaler"
   ]
  },
  {
   "cell_type": "code",
   "execution_count": 40,
   "metadata": {},
   "outputs": [],
   "source": [
    "df = pd.read_csv(\"user_information.csv\")"
   ]
  },
  {
   "cell_type": "code",
   "execution_count": 41,
   "metadata": {},
   "outputs": [],
   "source": [
    "SEED = 42\n",
    "np.random.seed(SEED)"
   ]
  },
  {
   "cell_type": "markdown",
   "metadata": {},
   "source": [
    "# Adjusting DATA"
   ]
  },
  {
   "cell_type": "code",
   "execution_count": 42,
   "metadata": {},
   "outputs": [],
   "source": [
    "# Ordinal Categories, so it will be used \n",
    "# sequential integers\n",
    "tr_cc = {}\n",
    "cc_types = df.conta_corrente.value_counts().keys()\n",
    "\n",
    "for index, cc in enumerate(cc_types):\n",
    "    tr_cc[cc] = index + 1\n",
    "    \n",
    "df.conta_corrente = df.conta_corrente.map(tr_cc)"
   ]
  },
  {
   "cell_type": "code",
   "execution_count": 43,
   "metadata": {},
   "outputs": [],
   "source": [
    "# Bool Value\n",
    "df.trabalhador_estrangeiro = df.trabalhador_estrangeiro.map({\"yes\": 1, \"no\": 0})"
   ]
  },
  {
   "cell_type": "code",
   "execution_count": 44,
   "metadata": {},
   "outputs": [],
   "source": [
    "telefone_to_bool = lambda x: 1 if x != \"none\" else 0\n",
    "\n",
    "df.telefone = df.telefone.apply(telefone_to_bool)"
   ]
  },
  {
   "cell_type": "code",
   "execution_count": 45,
   "metadata": {},
   "outputs": [],
   "source": [
    "# Creating a dict to translate the variables \n",
    "# as if it had an order between them\n",
    "credit_history = {'existing credits paid back duly till now': 5,\n",
    "                 'all credits at this bank paid back duly': 4, \n",
    "                 'no credits taken/ all credits paid back duly': 3,\n",
    "                 'critical account/ other credits existing (not at this bank)': 2,\n",
    "                 'delay in paying off in the past': 1,\n",
    "                 'ohter': 0}\n",
    "\n",
    "\n",
    "df.historico_credito = df.historico_credito.map(credit_history)"
   ]
  },
  {
   "cell_type": "code",
   "execution_count": 46,
   "metadata": {},
   "outputs": [],
   "source": [
    "# purposes that are, at least, 5% of the cases\n",
    "purposes = ['domestic appliances', 'car (new)', 'radio/television', 'car (used)', 'business']\n",
    "df.proposito_emprestimo = df.proposito_emprestimo.apply(lambda x: x if x in purposes else \"other\")"
   ]
  },
  {
   "cell_type": "code",
   "execution_count": 47,
   "metadata": {},
   "outputs": [],
   "source": [
    "# Extracting only the civil status from the column\n",
    "# sex does not help in the case\n",
    "df = df.assign(civil_status = df.sexo_est_civil.apply(lambda x: x.split(\" \")[-1]))\n",
    "df.drop('sexo_est_civil', axis=1, inplace=True)"
   ]
  },
  {
   "cell_type": "code",
   "execution_count": 48,
   "metadata": {},
   "outputs": [],
   "source": [
    "# As an ordinal condition, it'll be replaced be integers values \n",
    "# between 0 and the lenght of the list\n",
    "\n",
    "dict_reserva = {'unknown/ no savings account': 0, \n",
    "                '... < 100 DM': 1,\n",
    "                '100 <= ... < 500 DM':2,\n",
    "                '500 <= ... < 1000 DM ': 3,\n",
    "                '.. >= 1000 DM ': 4\n",
    "                }   \n",
    "\n",
    "df.reserva_cc = df.reserva_cc.map(dict_reserva)"
   ]
  },
  {
   "cell_type": "code",
   "execution_count": 49,
   "metadata": {},
   "outputs": [],
   "source": [
    "# Same case as the cell above\n",
    "dict_tempo_emprego_atual = {\n",
    "                            \"unemployed\": 0,\n",
    "                            \"... < 1 year\": 1,\n",
    "                            \"1 <= ... < 4 years\": 2, \n",
    "                            \"4 <= ... < 7 years\": 3, \n",
    "                            \".. >= 7 years\": 4\n",
    "                            }\n",
    "\n",
    "df.tempo_emprego_atual = df.tempo_emprego_atual.map(dict_tempo_emprego_atual)"
   ]
  },
  {
   "cell_type": "code",
   "execution_count": 50,
   "metadata": {},
   "outputs": [],
   "source": [
    "# None and guarantor have a similiar behavior, so\n",
    "# the will be grouped in one class, so it'll turn \n",
    "# outros_fiadores in a binary column\n",
    "\n",
    "dict_fiadores = {\n",
    "                \"none\": 0, \n",
    "                \"guarantor\": 0,\n",
    "                \"co-applicant\": 1\n",
    "                }\n",
    "\n",
    "df.outros_fiadores = df.outros_fiadores.map(dict_fiadores)"
   ]
  },
  {
   "cell_type": "code",
   "execution_count": 51,
   "metadata": {},
   "outputs": [],
   "source": [
    "# Bank and Stores cases have a similiar behavior too\n",
    "# So, the same logic above will be applied\n",
    "\n",
    "dict_fiadores = {\n",
    "                \"bank\": 1, \n",
    "                \"stores\": 1,\n",
    "                \"none\": 0\n",
    "                }\n",
    "\n",
    "df.outros_planos_financiamento = df.outros_planos_financiamento.map(dict_fiadores)"
   ]
  },
  {
   "cell_type": "code",
   "execution_count": 53,
   "metadata": {},
   "outputs": [],
   "source": [
    "# One Hot Encoder\n",
    "cols_one = ['outros_fiadores', 'civil_status', 'proposito_emprestimo', \n",
    "            'status_emprego', 'propriedade']"
   ]
  },
  {
   "cell_type": "code",
   "execution_count": 55,
   "metadata": {},
   "outputs": [],
   "source": [
    "# Splitting data between train and test\n",
    "y = df.pop(\"default\")\n",
    "\n",
    "train_x, test_x, train_y, test_y = train_test_split(df, y, test_size=.25)"
   ]
  }
 ],
 "metadata": {
  "kernelspec": {
   "display_name": "Python 3",
   "language": "python",
   "name": "python3"
  },
  "language_info": {
   "codemirror_mode": {
    "name": "ipython",
    "version": 3
   },
   "file_extension": ".py",
   "mimetype": "text/x-python",
   "name": "python",
   "nbconvert_exporter": "python",
   "pygments_lexer": "ipython3",
   "version": "3.11.4"
  },
  "orig_nbformat": 4
 },
 "nbformat": 4,
 "nbformat_minor": 2
}
